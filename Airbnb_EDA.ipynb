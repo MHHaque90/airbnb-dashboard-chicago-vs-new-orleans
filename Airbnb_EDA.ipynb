{
 "cells": [
  {
   "cell_type": "code",
   "execution_count": 1,
   "id": "dbea8ee8-e795-4978-a6f9-d445a4abdeb6",
   "metadata": {},
   "outputs": [],
   "source": [
    "import pandas as pd"
   ]
  },
  {
   "cell_type": "code",
   "execution_count": 2,
   "id": "027b3d15-84f1-4b6e-b6c6-1e69baf9f184",
   "metadata": {},
   "outputs": [],
   "source": [
    "# Load the datasets\n",
    "chicago_df = pd.read_csv('chicago_airbnb_merged.csv')\n",
    "neworleans_df = pd.read_csv('new_orleans_airbnb_merged.csv')\n"
   ]
  },
  {
   "cell_type": "code",
   "execution_count": 3,
   "id": "f6d70c49-b6e2-4efe-bef3-f1db51c9e69a",
   "metadata": {},
   "outputs": [],
   "source": [
    "cols_to_drop = [\n",
    "    'listing_url', 'picture_url', 'host_url', 'host_about', 'host_thumbnail_url',\n",
    "    'host_picture_url', 'scrape_id', 'last_scraped', 'calendar_updated',\n",
    "    'calendar_last_scraped', 'source', 'host_verifications', 'description',\n",
    "    'neighborhood_overview', 'host_response_rate', 'host_acceptance_rate',\n",
    "    'host_since', 'host_location', 'host_neighbourhood', 'bathrooms_text',\n",
    "    'neighbourhood_group_cleansed'\n",
    "]\n",
    "\n",
    "# Drop them only if they exist\n",
    "chicago_df = chicago_df.drop(columns=[col for col in cols_to_drop if col in chicago_df.columns])\n",
    "neworleans_df = neworleans_df.drop(columns=[col for col in cols_to_drop if col in neworleans_df.columns])\n"
   ]
  },
  {
   "cell_type": "code",
   "execution_count": 4,
   "id": "7b5b8227-e94d-4db8-9dd6-2b2fcee68570",
   "metadata": {},
   "outputs": [],
   "source": [
    "chicago_df['city'] = 'Chicago'\n",
    "neworleans_df['city'] = 'New Orleans'\n"
   ]
  },
  {
   "cell_type": "code",
   "execution_count": 5,
   "id": "e6619c41-62bd-4e65-a794-2339ab20c955",
   "metadata": {},
   "outputs": [],
   "source": [
    "# Remove $ and commas from price columns\n",
    "price_columns = ['price', 'avg_calendar_price', 'estimated_revenue_l365d']\n",
    "\n",
    "for df in [chicago_df, neworleans_df]:\n",
    "    for col in price_columns:\n",
    "        if col in df.columns:\n",
    "            df[col] = df[col].replace(r'[\\$,]', '', regex=True).astype(float)\n",
    "\n"
   ]
  },
  {
   "cell_type": "code",
   "execution_count": 6,
   "id": "5c3f000e-1ad2-4fe2-ab14-401b0f067752",
   "metadata": {},
   "outputs": [],
   "source": [
    "date_columns = ['last_review', 'first_review']\n",
    "\n",
    "for df in [chicago_df, neworleans_df]:\n",
    "    for col in date_columns:\n",
    "        if col in df.columns:\n",
    "            df[col] = pd.to_datetime(df[col], errors='coerce')\n"
   ]
  },
  {
   "cell_type": "code",
   "execution_count": 7,
   "id": "c59d78e4-a166-4b28-879b-42962432b25b",
   "metadata": {},
   "outputs": [],
   "source": [
    "# Fill reviews per month and ratings with 0 (if null)\n",
    "for df in [chicago_df, neworleans_df]:\n",
    "    if 'reviews_per_month' in df.columns:\n",
    "        df['reviews_per_month'] = df['reviews_per_month'].fillna(0)\n",
    "    if 'review_scores_rating' in df.columns:\n",
    "        df['review_scores_rating'] = df['review_scores_rating'].fillna(0)\n"
   ]
  },
  {
   "cell_type": "code",
   "execution_count": 8,
   "id": "6c43c4f0-2eab-4977-b8ba-2724955de73c",
   "metadata": {},
   "outputs": [],
   "source": [
    "# Save the cleaned files\n",
    "chicago_df.to_csv('chicago_airbnb_cleaned.csv', index=False)\n",
    "neworleans_df.to_csv('new_orleans_airbnb_cleaned.csv', index=False)\n"
   ]
  },
  {
   "cell_type": "code",
   "execution_count": 9,
   "id": "9aa1c045-8af5-4394-aadd-fbf59f78fcf0",
   "metadata": {},
   "outputs": [],
   "source": [
    "import pandas as pd\n",
    "\n",
    "# Load your cleaned CSVs\n",
    "chicago_df = pd.read_csv(\"chicago_airbnb_cleaned.csv\")\n",
    "nola_df = pd.read_csv(\"new_orleans_airbnb_cleaned.csv\")\n",
    "\n",
    "# Add City columns\n",
    "chicago_df[\"City\"] = \"Chicago\"\n",
    "nola_df[\"City\"] = \"New Orleans\"\n",
    "\n",
    "# Combine the two\n",
    "combined_df = pd.concat([chicago_df, nola_df], ignore_index=True)\n",
    "\n",
    "# Save for Tableau\n",
    "combined_df.to_csv(\"airbnb_combined_cleaned.csv\", index=False)\n"
   ]
  }
 ],
 "metadata": {
  "kernelspec": {
   "display_name": "Python 3 (ipykernel)",
   "language": "python",
   "name": "python3"
  },
  "language_info": {
   "codemirror_mode": {
    "name": "ipython",
    "version": 3
   },
   "file_extension": ".py",
   "mimetype": "text/x-python",
   "name": "python",
   "nbconvert_exporter": "python",
   "pygments_lexer": "ipython3",
   "version": "3.13.5"
  }
 },
 "nbformat": 4,
 "nbformat_minor": 5
}
