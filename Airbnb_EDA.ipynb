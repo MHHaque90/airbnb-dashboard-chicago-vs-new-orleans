{
 "cells": [
  {
   "cell_type": "code",
   "execution_count": 1,
   "id": "7ccff03d-6931-4bc6-b57e-84e78e2ca0e3",
   "metadata": {},
   "outputs": [],
   "source": [
    "import pandas as pd\n",
    "\n",
    "# Load your cleaned CSVs\n",
    "chicago_df = pd.read_csv(\"chicago_airbnb_cleaned.csv\")\n",
    "nola_df = pd.read_csv(\"new_orleans_airbnb_cleaned.csv\")\n",
    "\n",
    "# Add City columns\n",
    "chicago_df[\"City\"] = \"Chicago\"\n",
    "nola_df[\"City\"] = \"New Orleans\"\n",
    "\n",
    "# Combine the two\n",
    "combined_df = pd.concat([chicago_df, nola_df], ignore_index=True)\n",
    "\n",
    "# Save for Tableau\n",
    "combined_df.to_csv(\"airbnb_combined_cleaned.csv\", index=False)\n"
   ]
  },
  {
   "cell_type": "code",
   "execution_count": null,
   "id": "ffbba843-e163-4b67-b37c-46882a1d2c6f",
   "metadata": {},
   "outputs": [],
   "source": []
  }
 ],
 "metadata": {
  "kernelspec": {
   "display_name": "Python 3 (ipykernel)",
   "language": "python",
   "name": "python3"
  },
  "language_info": {
   "codemirror_mode": {
    "name": "ipython",
    "version": 3
   },
   "file_extension": ".py",
   "mimetype": "text/x-python",
   "name": "python",
   "nbconvert_exporter": "python",
   "pygments_lexer": "ipython3",
   "version": "3.13.5"
  }
 },
 "nbformat": 4,
 "nbformat_minor": 5
}
